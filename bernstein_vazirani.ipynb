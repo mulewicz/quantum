{
 "cells": [
  {
   "cell_type": "code",
   "execution_count": 23,
   "id": "bcb5967c-baf9-403e-bde5-1ac90169d686",
   "metadata": {},
   "outputs": [
    {
     "name": "stderr",
     "output_type": "stream",
     "text": [
      "ibmqfactory.load_account:WARNING:2022-12-16 22:59:39,107: Credentials are already in use. The existing account in the session will be replaced.\n"
     ]
    }
   ],
   "source": [
    "import numpy as np\n",
    "\n",
    "# Importing standard Qiskit libraries\n",
    "from qiskit import *\n",
    "from qiskit.tools.jupyter import *\n",
    "from qiskit.visualization import *\n",
    "from ibm_quantum_widgets import *\n",
    "from qiskit.providers.aer import QasmSimulator\n",
    "from qiskit.tools.visualization import plot_histogram\n",
    "\n",
    "# Loading your IBM Quantum account(s)\n",
    "provider = IBMQ.load_account()"
   ]
  },
  {
   "cell_type": "code",
   "execution_count": 31,
   "id": "bdbc041d-6b13-4d13-9af7-a709f75c2a70",
   "metadata": {},
   "outputs": [
    {
     "name": "stdin",
     "output_type": "stream",
     "text": [
      "binary:  10101001010000\n"
     ]
    }
   ],
   "source": [
    "number = input(\"binary: \")"
   ]
  },
  {
   "cell_type": "code",
   "execution_count": 32,
   "id": "05a23f81-d205-404c-b34e-325b8beb632b",
   "metadata": {},
   "outputs": [
    {
     "data": {
      "text/plain": [
       "<qiskit.circuit.instructionset.InstructionSet at 0x7fdf0b1ec610>"
      ]
     },
     "execution_count": 32,
     "metadata": {},
     "output_type": "execute_result"
    }
   ],
   "source": [
    "circuit = QuantumCircuit(len(number)+1, len(number))\n",
    "circuit.h(range(len(number)))\n",
    "circuit.x(len(number))\n",
    "circuit.h(len(number))\n",
    "\n",
    "circuit.barrier()"
   ]
  },
  {
   "cell_type": "code",
   "execution_count": 33,
   "id": "2a6d9585-1677-42b0-a8ee-46495dc81c0c",
   "metadata": {},
   "outputs": [
    {
     "data": {
      "text/plain": [
       "<qiskit.circuit.instructionset.InstructionSet at 0x7fdf0ba4ed90>"
      ]
     },
     "execution_count": 33,
     "metadata": {},
     "output_type": "execute_result"
    }
   ],
   "source": [
    "for i, j in enumerate(reversed(number)):\n",
    "    if j == \"1\":\n",
    "        circuit.cx(i, len(number))\n",
    "        \n",
    "circuit.barrier()"
   ]
  },
  {
   "cell_type": "code",
   "execution_count": 34,
   "id": "27d72bda-ddf3-4b06-b3a2-62245ca17635",
   "metadata": {},
   "outputs": [
    {
     "data": {
      "text/plain": [
       "<qiskit.circuit.instructionset.InstructionSet at 0x7fdf0b88d5b0>"
      ]
     },
     "execution_count": 34,
     "metadata": {},
     "output_type": "execute_result"
    }
   ],
   "source": [
    "circuit.h(range(len(number)))\n",
    "circuit.measure(range(len(number)), range(len(number)))"
   ]
  },
  {
   "cell_type": "code",
   "execution_count": 35,
   "id": "3b68b83c-9e03-490f-a3c6-aaf0c78377d8",
   "metadata": {},
   "outputs": [],
   "source": [
    "#circuit.draw(output = \"mpl\")"
   ]
  },
  {
   "cell_type": "code",
   "execution_count": 36,
   "id": "de120a53-36e7-4433-b038-ab62376aba34",
   "metadata": {},
   "outputs": [
    {
     "name": "stdout",
     "output_type": "stream",
     "text": [
      "{'10101001010000': 1}\n"
     ]
    }
   ],
   "source": [
    "simulator = Aer.get_backend(\"qasm_simulator\")\n",
    "result = execute(circuit,backend = simulator, shots =1).result()\n",
    "counts = result.get_counts()\n",
    "print(counts)"
   ]
  }
 ],
 "metadata": {
  "kernelspec": {
   "display_name": "Python 3 (ipykernel)",
   "language": "python",
   "name": "python3"
  },
  "language_info": {
   "codemirror_mode": {
    "name": "ipython",
    "version": 3
   },
   "file_extension": ".py",
   "mimetype": "text/x-python",
   "name": "python",
   "nbconvert_exporter": "python",
   "pygments_lexer": "ipython3",
   "version": "3.8.13"
  },
  "widgets": {
   "application/vnd.jupyter.widget-state+json": {
    "state": {
     "0b6807f5796b4be8a25aeb746ce9d748": {
      "model_module": "@jupyter-widgets/base",
      "model_module_version": "1.2.0",
      "model_name": "LayoutModel",
      "state": {
       "width": "95px"
      }
     },
     "0d99e5f9add9473a833263725df6e980": {
      "model_module": "@jupyter-widgets/controls",
      "model_module_version": "1.5.0",
      "model_name": "DescriptionStyleModel",
      "state": {
       "description_width": ""
      }
     },
     "1ef7b2d544414fda90b46e615a919b1d": {
      "model_module": "@jupyter-widgets/controls",
      "model_module_version": "1.5.0",
      "model_name": "HBoxModel",
      "state": {
       "children": [
        "IPY_MODEL_781d68e50c47447387daa4ddc7808fd4",
        "IPY_MODEL_3eeee52c095b4332b6a03a96aa74d927",
        "IPY_MODEL_dc60eeaafd434a50b73e90f5ed2a96a1",
        "IPY_MODEL_25889975f2114da08a46ae09e0f24e0f",
        "IPY_MODEL_f84270d7760e41b585990c2f44840564"
       ],
       "layout": "IPY_MODEL_8c5366cdee3647e3a9a340d5812f8ddf"
      }
     },
     "23102bcc78a648fc8d5bdaecfe09a013": {
      "model_module": "@jupyter-widgets/base",
      "model_module_version": "1.2.0",
      "model_name": "LayoutModel",
      "state": {
       "width": "70px"
      }
     },
     "25889975f2114da08a46ae09e0f24e0f": {
      "model_module": "@jupyter-widgets/controls",
      "model_module_version": "1.5.0",
      "model_name": "HTMLModel",
      "state": {
       "layout": "IPY_MODEL_23102bcc78a648fc8d5bdaecfe09a013",
       "style": "IPY_MODEL_0d99e5f9add9473a833263725df6e980",
       "value": "<h5>Queue</h5>"
      }
     },
     "3500672d243a459287bb1b3589c61a98": {
      "model_module": "@jupyter-widgets/controls",
      "model_module_version": "1.5.0",
      "model_name": "DescriptionStyleModel",
      "state": {
       "description_width": ""
      }
     },
     "3eeee52c095b4332b6a03a96aa74d927": {
      "model_module": "@jupyter-widgets/controls",
      "model_module_version": "1.5.0",
      "model_name": "HTMLModel",
      "state": {
       "layout": "IPY_MODEL_a1668c57f58c49f0a7abc533199c6a63",
       "style": "IPY_MODEL_3500672d243a459287bb1b3589c61a98",
       "value": "<h5>Backend</h5>"
      }
     },
     "477151c577474210b7afbfe5adefea88": {
      "model_module": "@jupyter-widgets/controls",
      "model_module_version": "1.5.0",
      "model_name": "DescriptionStyleModel",
      "state": {
       "description_width": ""
      }
     },
     "5cb86a898cc94c0f925e80cbfc8a05eb": {
      "model_module": "@jupyter-widgets/controls",
      "model_module_version": "1.5.0",
      "model_name": "DescriptionStyleModel",
      "state": {
       "description_width": ""
      }
     },
     "633f24dc011749aeb8102e0d508e1645": {
      "model_module": "@jupyter-widgets/base",
      "model_module_version": "1.2.0",
      "model_name": "LayoutModel",
      "state": {
       "width": "190px"
      }
     },
     "73a983d53b024e5a93a66e064ae93c4c": {
      "model_module": "@jupyter-widgets/controls",
      "model_module_version": "1.5.0",
      "model_name": "DescriptionStyleModel",
      "state": {
       "description_width": ""
      }
     },
     "781d68e50c47447387daa4ddc7808fd4": {
      "model_module": "@jupyter-widgets/controls",
      "model_module_version": "1.5.0",
      "model_name": "HTMLModel",
      "state": {
       "layout": "IPY_MODEL_633f24dc011749aeb8102e0d508e1645",
       "style": "IPY_MODEL_5cb86a898cc94c0f925e80cbfc8a05eb",
       "value": "<h5>Job ID</h5>"
      }
     },
     "79a973c44ec94da18ad8d2e21b1fa59e": {
      "model_module": "@jupyter-widgets/base",
      "model_module_version": "1.2.0",
      "model_name": "LayoutModel",
      "state": {
       "margin": "0px 0px 10px 0px"
      }
     },
     "8c5366cdee3647e3a9a340d5812f8ddf": {
      "model_module": "@jupyter-widgets/base",
      "model_module_version": "1.2.0",
      "model_name": "LayoutModel",
      "state": {
       "margin": "0px 0px 0px 37px",
       "width": "600px"
      }
     },
     "991cadc8252543e8a58fe7b18a33a438": {
      "model_module": "@jupyter-widgets/base",
      "model_module_version": "1.2.0",
      "model_name": "LayoutModel",
      "state": {
       "grid_area": "right",
       "padding": "0px 0px 0px 0px",
       "width": "70px"
      }
     },
     "9a63fdac3d184874a51f88a969268d1a": {
      "model_module": "@jupyter-widgets/controls",
      "model_module_version": "1.5.0",
      "model_name": "HTMLModel",
      "state": {
       "layout": "IPY_MODEL_79a973c44ec94da18ad8d2e21b1fa59e",
       "style": "IPY_MODEL_477151c577474210b7afbfe5adefea88",
       "value": "<p style='font-family: IBM Plex Sans, Arial, Helvetica, sans-serif; font-size: 20px; font-weight: medium;'>Circuit Properties</p>"
      }
     },
     "a1668c57f58c49f0a7abc533199c6a63": {
      "model_module": "@jupyter-widgets/base",
      "model_module_version": "1.2.0",
      "model_name": "LayoutModel",
      "state": {
       "width": "145px"
      }
     },
     "ac1d818af3ed4494b3b66d08bc94d306": {
      "model_module": "@jupyter-widgets/base",
      "model_module_version": "1.2.0",
      "model_name": "LayoutModel",
      "state": {
       "grid_template_areas": "\n                                       \". . . . right \"\n                                        ",
       "grid_template_columns": "20% 20% 20% 20% 20%",
       "width": "100%"
      }
     },
     "aec63e452d26476ca90d3fd94e2ab31a": {
      "model_module": "@jupyter-widgets/controls",
      "model_module_version": "1.5.0",
      "model_name": "ButtonModel",
      "state": {
       "button_style": "primary",
       "description": "Clear",
       "layout": "IPY_MODEL_991cadc8252543e8a58fe7b18a33a438",
       "style": "IPY_MODEL_f5ba256f4edc4098910e388a60afb8c9"
      }
     },
     "bc0048f7b3eb4fc5a8bb820386d001a3": {
      "model_module": "@jupyter-widgets/base",
      "model_module_version": "1.2.0",
      "model_name": "LayoutModel",
      "state": {}
     },
     "dc60eeaafd434a50b73e90f5ed2a96a1": {
      "model_module": "@jupyter-widgets/controls",
      "model_module_version": "1.5.0",
      "model_name": "HTMLModel",
      "state": {
       "layout": "IPY_MODEL_0b6807f5796b4be8a25aeb746ce9d748",
       "style": "IPY_MODEL_73a983d53b024e5a93a66e064ae93c4c",
       "value": "<h5>Status</h5>"
      }
     },
     "e871bd2b2a544d40b663b4aec3ecdf08": {
      "model_module": "@jupyter-widgets/controls",
      "model_module_version": "1.5.0",
      "model_name": "GridBoxModel",
      "state": {
       "children": [
        "IPY_MODEL_aec63e452d26476ca90d3fd94e2ab31a"
       ],
       "layout": "IPY_MODEL_ac1d818af3ed4494b3b66d08bc94d306"
      }
     },
     "f3c0a540eb6f414287f236d2753a27e3": {
      "model_module": "@jupyter-widgets/controls",
      "model_module_version": "1.5.0",
      "model_name": "DescriptionStyleModel",
      "state": {
       "description_width": ""
      }
     },
     "f5ba256f4edc4098910e388a60afb8c9": {
      "model_module": "@jupyter-widgets/controls",
      "model_module_version": "1.5.0",
      "model_name": "ButtonStyleModel",
      "state": {}
     },
     "f84270d7760e41b585990c2f44840564": {
      "model_module": "@jupyter-widgets/controls",
      "model_module_version": "1.5.0",
      "model_name": "HTMLModel",
      "state": {
       "layout": "IPY_MODEL_bc0048f7b3eb4fc5a8bb820386d001a3",
       "style": "IPY_MODEL_f3c0a540eb6f414287f236d2753a27e3",
       "value": "<h5>Message</h5>"
      }
     }
    },
    "version_major": 2,
    "version_minor": 0
   }
  }
 },
 "nbformat": 4,
 "nbformat_minor": 5
}
